{
 "cells": [
  {
   "cell_type": "code",
   "execution_count": 2,
   "id": "9a4af9cb-b45e-4274-8738-4c4282f6e462",
   "metadata": {},
   "outputs": [
    {
     "name": "stdout",
     "output_type": "stream",
     "text": [
      "Most played opening: Sicilian Defense: Nyezhmetdinov-Rossolimo Attack\n",
      "\n",
      "Top White wins in this opening:\n",
      "     round                    white  white_elo                black  \\\n",
      "223   4.50  Goryachkina, Aleksandra       2528     Kollars, Dmitrij   \n",
      "131   3.16         Gumularz, Szymon       2590     Oparin, Grigoriy   \n",
      "513   9.50          Svane, Frederik       2643  Vakhidov, Jakhongir   \n",
      "\n",
      "     black_elo  elo_gap                                           game_url  \n",
      "223       2647     -119  https://lichess.org/broadcast/fide-grand-swiss...  \n",
      "131       2660      -70  https://lichess.org/broadcast/fide-grand-swiss...  \n",
      "513       2521      122  https://lichess.org/broadcast/fide-grand-swiss...  \n"
     ]
    }
   ],
   "source": [
    "import pandas as pd\n",
    "\n",
    "games = pd.read_csv(\"../data/processed/games.csv\")\n",
    "\n",
    "# Step 1: Find top 10 openings and pick the most played\n",
    "top_openings = games[\"opening\"].value_counts().head(10)\n",
    "top_opening_name = top_openings.index[0]\n",
    "print(f\"Most played opening: {top_opening_name}\")\n",
    "\n",
    "# Step 2: Filter games with that opening\n",
    "opening_games = games[games[\"opening\"] == top_opening_name]\n",
    "\n",
    "# Step 3: Only decisive games where White won\n",
    "white_wins = opening_games[opening_games[\"result\"] == \"1-0\"].copy()  # <— added .copy()\n",
    "\n",
    "# Step 4: Add Elo gap (positive = White higher rated, negative = upset)\n",
    "white_wins[\"elo_gap\"] = white_wins[\"white_elo\"] - white_wins[\"black_elo\"]\n",
    "\n",
    "# Step 5: Sort by elo_gap (underdogs at the top)\n",
    "white_wins_sorted = white_wins.sort_values(by=\"elo_gap\")\n",
    "\n",
    "# Step 6: Show top 5\n",
    "print(\"\\nTop White wins in this opening:\")\n",
    "print(\n",
    "    white_wins_sorted[\n",
    "        [\"round\", \"white\", \"white_elo\", \"black\", \"black_elo\", \"elo_gap\", \"game_url\"]\n",
    "    ].head(5)\n",
    ")"
   ]
  },
  {
   "cell_type": "code",
   "execution_count": null,
   "id": "fd28b553-05bf-4d0e-a8d9-ce0cc5d348a4",
   "metadata": {},
   "outputs": [],
   "source": []
  }
 ],
 "metadata": {
  "kernelspec": {
   "display_name": "Python 3 (ipykernel)",
   "language": "python",
   "name": "python3"
  },
  "language_info": {
   "codemirror_mode": {
    "name": "ipython",
    "version": 3
   },
   "file_extension": ".py",
   "mimetype": "text/x-python",
   "name": "python",
   "nbconvert_exporter": "python",
   "pygments_lexer": "ipython3",
   "version": "3.13.3"
  }
 },
 "nbformat": 4,
 "nbformat_minor": 5
}
